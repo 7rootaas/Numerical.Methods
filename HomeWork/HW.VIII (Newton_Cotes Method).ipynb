{
 "cells": [
  {
   "cell_type": "code",
   "execution_count": 1,
   "id": "a7e249f5",
   "metadata": {},
   "outputs": [
    {
     "name": "stdout",
     "output_type": "stream",
     "text": [
      " 1 1.359140914 3.57971e-01\n",
      " 2 1.002620728 1.45073e-03\n",
      " 3 1.001170292 2.91957e-07\n"
     ]
    }
   ],
   "source": [
    "#Newton_Cotes Method\n",
    "\n",
    "from scipy.integrate import newton_cotes\n",
    "import numpy as np\n",
    "\n",
    "def f(x):\n",
    "    return x * np.exp(x)\n",
    "\n",
    "a = 0\n",
    "b = 1\n",
    "exact = 1.00117\n",
    "\n",
    "for N in range(1,4):\n",
    "    x = np.linspace(a, b, N + 1)\n",
    "    an, B = newton_cotes(N, 1)\n",
    "    dx = (b - a) / N\n",
    "    quad = dx * np.sum(an * f(x))\n",
    "    error = abs(quad - exact)\n",
    "    print('{:2d} {:10.9f} {:.5e}'.format(N, quad, error))"
   ]
  },
  {
   "cell_type": "code",
   "execution_count": null,
   "id": "a010050a",
   "metadata": {},
   "outputs": [],
   "source": []
  }
 ],
 "metadata": {
  "kernelspec": {
   "display_name": "Python 3 (ipykernel)",
   "language": "python",
   "name": "python3"
  },
  "language_info": {
   "codemirror_mode": {
    "name": "ipython",
    "version": 3
   },
   "file_extension": ".py",
   "mimetype": "text/x-python",
   "name": "python",
   "nbconvert_exporter": "python",
   "pygments_lexer": "ipython3",
   "version": "3.9.13"
  }
 },
 "nbformat": 4,
 "nbformat_minor": 5
}
