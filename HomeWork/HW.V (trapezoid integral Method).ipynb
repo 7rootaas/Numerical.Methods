{
 "cells": [
  {
   "cell_type": "code",
   "execution_count": 1,
   "id": "eec28625",
   "metadata": {},
   "outputs": [
    {
     "name": "stdout",
     "output_type": "stream",
     "text": [
      "0.7174508152250928\n",
      "-0.04145081522509275\n"
     ]
    }
   ],
   "source": [
    "# trapezoid integral Method\n",
    "\n",
    "import numpy as np\n",
    "\n",
    "a = 0.2\n",
    "b = 5\n",
    "n = 10\n",
    "h = (b - a) / (n - 1)\n",
    "x = np.linspace(a, b, n)\n",
    "f = (x-1)**2/np.exp(x)\n",
    "\n",
    "I_trap = (h/2)*(f[0] + 2 * sum(f[1:n-1]) + f[n-1])\n",
    "err_trap = 0.676 - I_trap\n",
    "\n",
    "print(I_trap)\n",
    "print(err_trap)"
   ]
  },
  {
   "cell_type": "code",
   "execution_count": null,
   "id": "9cf7ec24",
   "metadata": {},
   "outputs": [],
   "source": []
  }
 ],
 "metadata": {
  "kernelspec": {
   "display_name": "Python 3 (ipykernel)",
   "language": "python",
   "name": "python3"
  },
  "language_info": {
   "codemirror_mode": {
    "name": "ipython",
    "version": 3
   },
   "file_extension": ".py",
   "mimetype": "text/x-python",
   "name": "python",
   "nbconvert_exporter": "python",
   "pygments_lexer": "ipython3",
   "version": "3.9.13"
  }
 },
 "nbformat": 4,
 "nbformat_minor": 5
}
