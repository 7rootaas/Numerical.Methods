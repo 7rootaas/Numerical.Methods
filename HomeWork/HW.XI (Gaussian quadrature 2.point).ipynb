{
 "cells": [
  {
   "cell_type": "code",
   "execution_count": null,
   "id": "6ce57b02",
   "metadata": {},
   "outputs": [],
   "source": [
    "#Gaussian quadrature 2-point\n",
    "\n",
    "import math \n",
    "import numpy as np\n",
    "def f(x): \n",
    "    return #every function can define\n",
    "\n",
    "a = float(input(\"Enter lower limit of the integration as a:\"))\n",
    "b = float(input(\"Enter lower limit of the integration as b:\"))\n",
    "\n",
    "w1 = 1\n",
    "w2 = 1\n",
    "z1 = -1/math.sqrt(3)\n",
    "z2 = 1/math.sqrt(3)\n",
    "x1 = (b-a)/2*z1+(b+a)/2\n",
    "print(\"the Value of x1 = \",x1)\n",
    "x2 = (b-a)/2*z2+(b+a)/2\n",
    "print(\"the Value of x2 = \",x2)\n",
    "\n",
    "I = ((b-a)/2)*(w1*f(x1)+w2*f(x2))\n",
    "\n",
    "print(\"The solution of the integration is :\", I)"
   ]
  },
  {
   "cell_type": "code",
   "execution_count": null,
   "id": "80847193",
   "metadata": {},
   "outputs": [],
   "source": []
  }
 ],
 "metadata": {
  "kernelspec": {
   "display_name": "Python 3 (ipykernel)",
   "language": "python",
   "name": "python3"
  },
  "language_info": {
   "codemirror_mode": {
    "name": "ipython",
    "version": 3
   },
   "file_extension": ".py",
   "mimetype": "text/x-python",
   "name": "python",
   "nbconvert_exporter": "python",
   "pygments_lexer": "ipython3",
   "version": "3.9.13"
  }
 },
 "nbformat": 4,
 "nbformat_minor": 5
}
