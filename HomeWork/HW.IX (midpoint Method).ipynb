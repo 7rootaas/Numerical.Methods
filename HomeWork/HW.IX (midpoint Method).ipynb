{
 "cells": [
  {
   "cell_type": "code",
   "execution_count": 1,
   "id": "e5886e7b",
   "metadata": {},
   "outputs": [
    {
     "name": "stdout",
     "output_type": "stream",
     "text": [
      "n midpoint\n",
      "2 0.4732050807568877\n",
      "4 0.5096532238739018\n",
      "8 0.5359383005204525\n",
      "16 0.5546570053919212\n"
     ]
    }
   ],
   "source": [
    "#midpoint Method\n",
    "\n",
    "import math \n",
    "\n",
    "def midpoint(f, a, b, n):\n",
    "    h = float(b-a)/n\n",
    "    result = 0\n",
    "    for i in range(n):\n",
    "        result += f((a + h/2.0) + i*h)\n",
    "    result *= h\n",
    "    return result\n",
    "    \n",
    "g = lambda x: 1 / math.sqrt(x)\n",
    "a = 0\n",
    "b = 0.09\n",
    "\n",
    "print ('n midpoint')\n",
    "for i in range(1,5):\n",
    "    n = 2**i\n",
    "    m = midpoint(g, a, b, n)\n",
    "    print (n, m)"
   ]
  },
  {
   "cell_type": "code",
   "execution_count": null,
   "id": "95c096ff",
   "metadata": {},
   "outputs": [],
   "source": []
  }
 ],
 "metadata": {
  "kernelspec": {
   "display_name": "Python 3 (ipykernel)",
   "language": "python",
   "name": "python3"
  },
  "language_info": {
   "codemirror_mode": {
    "name": "ipython",
    "version": 3
   },
   "file_extension": ".py",
   "mimetype": "text/x-python",
   "name": "python",
   "nbconvert_exporter": "python",
   "pygments_lexer": "ipython3",
   "version": "3.9.13"
  }
 },
 "nbformat": 4,
 "nbformat_minor": 5
}
